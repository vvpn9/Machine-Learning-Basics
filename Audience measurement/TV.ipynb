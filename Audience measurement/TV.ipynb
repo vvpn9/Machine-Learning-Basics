{
 "cells": [
  {
   "cell_type": "code",
   "execution_count": 1,
   "id": "steady-orange",
   "metadata": {},
   "outputs": [],
   "source": [
    "import csv"
   ]
  },
  {
   "cell_type": "code",
   "execution_count": 2,
   "id": "increasing-happiness",
   "metadata": {},
   "outputs": [],
   "source": [
    "import sys"
   ]
  },
  {
   "cell_type": "code",
   "execution_count": 3,
   "id": "logical-bhutan",
   "metadata": {},
   "outputs": [],
   "source": [
    "import matplotlib.pyplot as plt"
   ]
  },
  {
   "cell_type": "code",
   "execution_count": 4,
   "id": "sonic-horizon",
   "metadata": {},
   "outputs": [],
   "source": [
    "import numpy as np"
   ]
  },
  {
   "cell_type": "code",
   "execution_count": 5,
   "id": "composite-detail",
   "metadata": {},
   "outputs": [],
   "source": [
    "import pandas as pd"
   ]
  },
  {
   "cell_type": "code",
   "execution_count": 6,
   "id": "backed-affect",
   "metadata": {},
   "outputs": [],
   "source": [
    "from sklearn import datasets, linear_model"
   ]
  },
  {
   "cell_type": "code",
   "execution_count": 7,
   "id": "packed-potential",
   "metadata": {},
   "outputs": [],
   "source": [
    "data = pd.read_csv('tv-data.csv')"
   ]
  },
  {
   "cell_type": "code",
   "execution_count": 8,
   "id": "dress-mills",
   "metadata": {},
   "outputs": [
    {
     "data": {
      "text/html": [
       "<div>\n",
       "<style scoped>\n",
       "    .dataframe tbody tr th:only-of-type {\n",
       "        vertical-align: middle;\n",
       "    }\n",
       "\n",
       "    .dataframe tbody tr th {\n",
       "        vertical-align: top;\n",
       "    }\n",
       "\n",
       "    .dataframe thead th {\n",
       "        text-align: right;\n",
       "    }\n",
       "</style>\n",
       "<table border=\"1\" class=\"dataframe\">\n",
       "  <thead>\n",
       "    <tr style=\"text-align: right;\">\n",
       "      <th></th>\n",
       "      <th>flash_episode_number</th>\n",
       "      <th>flash_us_viewers</th>\n",
       "      <th>arrow_episode_number</th>\n",
       "      <th>arrow_us_viewers</th>\n",
       "    </tr>\n",
       "  </thead>\n",
       "  <tbody>\n",
       "    <tr>\n",
       "      <th>0</th>\n",
       "      <td>1</td>\n",
       "      <td>4.83</td>\n",
       "      <td>1</td>\n",
       "      <td>2.84</td>\n",
       "    </tr>\n",
       "    <tr>\n",
       "      <th>1</th>\n",
       "      <td>2</td>\n",
       "      <td>4.27</td>\n",
       "      <td>2</td>\n",
       "      <td>2.32</td>\n",
       "    </tr>\n",
       "    <tr>\n",
       "      <th>2</th>\n",
       "      <td>3</td>\n",
       "      <td>3.59</td>\n",
       "      <td>3</td>\n",
       "      <td>2.55</td>\n",
       "    </tr>\n",
       "    <tr>\n",
       "      <th>3</th>\n",
       "      <td>4</td>\n",
       "      <td>3.53</td>\n",
       "      <td>4</td>\n",
       "      <td>2.49</td>\n",
       "    </tr>\n",
       "    <tr>\n",
       "      <th>4</th>\n",
       "      <td>5</td>\n",
       "      <td>3.46</td>\n",
       "      <td>5</td>\n",
       "      <td>2.73</td>\n",
       "    </tr>\n",
       "    <tr>\n",
       "      <th>5</th>\n",
       "      <td>6</td>\n",
       "      <td>3.73</td>\n",
       "      <td>6</td>\n",
       "      <td>2.60</td>\n",
       "    </tr>\n",
       "    <tr>\n",
       "      <th>6</th>\n",
       "      <td>7</td>\n",
       "      <td>3.47</td>\n",
       "      <td>7</td>\n",
       "      <td>2.64</td>\n",
       "    </tr>\n",
       "    <tr>\n",
       "      <th>7</th>\n",
       "      <td>8</td>\n",
       "      <td>4.34</td>\n",
       "      <td>8</td>\n",
       "      <td>3.92</td>\n",
       "    </tr>\n",
       "    <tr>\n",
       "      <th>8</th>\n",
       "      <td>9</td>\n",
       "      <td>4.66</td>\n",
       "      <td>9</td>\n",
       "      <td>3.06</td>\n",
       "    </tr>\n",
       "  </tbody>\n",
       "</table>\n",
       "</div>"
      ],
      "text/plain": [
       "   flash_episode_number  flash_us_viewers  arrow_episode_number  \\\n",
       "0                     1              4.83                     1   \n",
       "1                     2              4.27                     2   \n",
       "2                     3              3.59                     3   \n",
       "3                     4              3.53                     4   \n",
       "4                     5              3.46                     5   \n",
       "5                     6              3.73                     6   \n",
       "6                     7              3.47                     7   \n",
       "7                     8              4.34                     8   \n",
       "8                     9              4.66                     9   \n",
       "\n",
       "   arrow_us_viewers  \n",
       "0              2.84  \n",
       "1              2.32  \n",
       "2              2.55  \n",
       "3              2.49  \n",
       "4              2.73  \n",
       "5              2.60  \n",
       "6              2.64  \n",
       "7              3.92  \n",
       "8              3.06  "
      ]
     },
     "execution_count": 8,
     "metadata": {},
     "output_type": "execute_result"
    }
   ],
   "source": [
    "data"
   ]
  },
  {
   "cell_type": "code",
   "execution_count": 9,
   "id": "binding-dairy",
   "metadata": {},
   "outputs": [],
   "source": [
    "def get_data(data):\n",
    "    flash_x_parameter = []\n",
    "    flash_y_parameter = []\n",
    "    arrow_x_parameter = []\n",
    "    arrow_y_parameter = []\n",
    "    for x1, y1, x2, y2 in zip(data['flash_episode_number'], data['flash_us_viewers'],\n",
    "                              data['arrow_episode_number'], data['arrow_us_viewers']):\n",
    "        flash_x_parameter.append([int(x1)])\n",
    "        flash_y_parameter.append([float(y1)])\n",
    "        arrow_x_parameter.append([int(x2)])\n",
    "        arrow_y_parameter.append([float(y2)])\n",
    "    return flash_x_parameter, flash_y_parameter, arrow_x_parameter, arrow_y_parameter"
   ]
  },
  {
   "cell_type": "code",
   "execution_count": 10,
   "id": "soviet-proposal",
   "metadata": {},
   "outputs": [],
   "source": [
    "flash_x_parameter, flash_y_parameter, arrow_x_parameter, arrow_y_parameter = get_data(\n",
    "    data)"
   ]
  },
  {
   "cell_type": "code",
   "execution_count": 11,
   "id": "obvious-laugh",
   "metadata": {},
   "outputs": [
    {
     "name": "stdout",
     "output_type": "stream",
     "text": [
      "==========flash_x_parameter==============\n",
      "[[1], [2], [3], [4], [5], [6], [7], [8], [9]]\n",
      "==========flash_y_parameter==============\n",
      "[[4.83], [4.27], [3.59], [3.53], [3.46], [3.73], [3.47], [4.34], [4.66]]\n",
      "========arrow_x_parameter================\n",
      "[[1], [2], [3], [4], [5], [6], [7], [8], [9]]\n",
      "=========arrow_y_parameter===============\n",
      "[[2.84], [2.32], [2.55], [2.49], [2.73], [2.6], [2.64], [3.92], [3.06]]\n"
     ]
    }
   ],
   "source": [
    "print('==========flash_x_parameter==============')\n",
    "print(flash_x_parameter)\n",
    "print('==========flash_y_parameter==============')\n",
    "print(flash_y_parameter)\n",
    "print('========arrow_x_parameter================')\n",
    "print(arrow_x_parameter)\n",
    "print('=========arrow_y_parameter===============')\n",
    "print(arrow_y_parameter)"
   ]
  },
  {
   "cell_type": "code",
   "execution_count": 12,
   "id": "tight-parallel",
   "metadata": {},
   "outputs": [],
   "source": [
    "def more_viewers(x1, y1, x2, y2, predict_week):\n",
    "    regr1 = linear_model.LinearRegression()\n",
    "    regr1.fit(x1, y1)\n",
    "    predicted_value1 = regr1.predict(predict_week)\n",
    "    print(predicted_value1)\n",
    "    regr2 = linear_model.LinearRegression()\n",
    "    regr2.fit(x2, y2)\n",
    "    predicted_value2 = regr2.predict(predict_week)\n",
    "    print(predicted_value2)\n",
    "    if predicted_value1 > predicted_value2:\n",
    "        return \"According to the system forecast, the TV ratings of Blitzkrieg will be higher than that of green arrow next week!\"\n",
    "    return \"According to the system forecast, the TV ratings of Blitzkrieg will be higher than that of green arrow next week!\""
   ]
  },
  {
   "cell_type": "code",
   "execution_count": 13,
   "id": "tough-professor",
   "metadata": {},
   "outputs": [
    {
     "name": "stdout",
     "output_type": "stream",
     "text": [
      "[[3.94416667]]\n",
      "[[3.29194444]]\n"
     ]
    }
   ],
   "source": [
    "result = more_viewers(flash_x_parameter,\n",
    "                      flash_y_parameter,\n",
    "                      arrow_x_parameter,\n",
    "                      arrow_y_parameter, [[10]])"
   ]
  },
  {
   "cell_type": "code",
   "execution_count": 14,
   "id": "structured-newfoundland",
   "metadata": {},
   "outputs": [
    {
     "data": {
      "text/plain": [
       "'According to the system forecast, the TV ratings of Blitzkrieg will be higher than that of green arrow next week!'"
      ]
     },
     "execution_count": 14,
     "metadata": {},
     "output_type": "execute_result"
    }
   ],
   "source": [
    "result"
   ]
  },
  {
   "cell_type": "code",
   "execution_count": null,
   "id": "exterior-aberdeen",
   "metadata": {},
   "outputs": [],
   "source": []
  }
 ],
 "metadata": {
  "kernelspec": {
   "display_name": "Python 3",
   "language": "python",
   "name": "python3"
  },
  "language_info": {
   "codemirror_mode": {
    "name": "ipython",
    "version": 3
   },
   "file_extension": ".py",
   "mimetype": "text/x-python",
   "name": "python",
   "nbconvert_exporter": "python",
   "pygments_lexer": "ipython3",
   "version": "3.9.2"
  }
 },
 "nbformat": 4,
 "nbformat_minor": 5
}
