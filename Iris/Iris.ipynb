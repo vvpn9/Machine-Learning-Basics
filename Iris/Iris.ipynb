{
 "cells": [
  {
   "cell_type": "code",
   "execution_count": 1,
   "id": "wireless-russia",
   "metadata": {},
   "outputs": [],
   "source": [
    "from sklearn import datasets"
   ]
  },
  {
   "cell_type": "code",
   "execution_count": 2,
   "id": "minus-association",
   "metadata": {},
   "outputs": [],
   "source": [
    "from sklearn.model_selection import train_test_split"
   ]
  },
  {
   "cell_type": "code",
   "execution_count": 3,
   "id": "consolidated-steam",
   "metadata": {},
   "outputs": [],
   "source": [
    "from sklearn.linear_model import LogisticRegression"
   ]
  },
  {
   "cell_type": "code",
   "execution_count": 17,
   "id": "proud-benefit",
   "metadata": {},
   "outputs": [],
   "source": [
    "from sklearn.metrics import classification_report"
   ]
  },
  {
   "cell_type": "code",
   "execution_count": 4,
   "id": "controversial-shore",
   "metadata": {},
   "outputs": [],
   "source": [
    "iris = datasets.load_iris()"
   ]
  },
  {
   "cell_type": "code",
   "execution_count": 5,
   "id": "honey-detroit",
   "metadata": {},
   "outputs": [
    {
     "data": {
      "text/plain": [
       "['DESCR',\n",
       " 'data',\n",
       " 'feature_names',\n",
       " 'filename',\n",
       " 'frame',\n",
       " 'target',\n",
       " 'target_names']"
      ]
     },
     "execution_count": 5,
     "metadata": {},
     "output_type": "execute_result"
    }
   ],
   "source": [
    "dir(iris)"
   ]
  },
  {
   "cell_type": "code",
   "execution_count": 6,
   "id": "electoral-oregon",
   "metadata": {},
   "outputs": [
    {
     "data": {
      "text/plain": [
       "['sepal length (cm)',\n",
       " 'sepal width (cm)',\n",
       " 'petal length (cm)',\n",
       " 'petal width (cm)']"
      ]
     },
     "execution_count": 6,
     "metadata": {},
     "output_type": "execute_result"
    }
   ],
   "source": [
    "iris.feature_names"
   ]
  },
  {
   "cell_type": "code",
   "execution_count": 7,
   "id": "dirty-quilt",
   "metadata": {},
   "outputs": [
    {
     "data": {
      "text/plain": [
       "(150, 4)"
      ]
     },
     "execution_count": 7,
     "metadata": {},
     "output_type": "execute_result"
    }
   ],
   "source": [
    "iris.data.shape"
   ]
  },
  {
   "cell_type": "code",
   "execution_count": 8,
   "id": "genetic-press",
   "metadata": {},
   "outputs": [
    {
     "name": "stdout",
     "output_type": "stream",
     "text": [
      "[[5.1 3.5 1.4 0.2]\n",
      " [4.9 3.  1.4 0.2]\n",
      " [4.7 3.2 1.3 0.2]\n",
      " [4.6 3.1 1.5 0.2]\n",
      " [5.  3.6 1.4 0.2]\n",
      " [5.4 3.9 1.7 0.4]\n",
      " [4.6 3.4 1.4 0.3]\n",
      " [5.  3.4 1.5 0.2]\n",
      " [4.4 2.9 1.4 0.2]\n",
      " [4.9 3.1 1.5 0.1]]\n"
     ]
    }
   ],
   "source": [
    "print(iris.data[:10])"
   ]
  },
  {
   "cell_type": "code",
   "execution_count": 9,
   "id": "pressed-cartridge",
   "metadata": {},
   "outputs": [
    {
     "name": "stdout",
     "output_type": "stream",
     "text": [
      "['setosa' 'versicolor' 'virginica']\n"
     ]
    }
   ],
   "source": [
    "print(iris.target_names)"
   ]
  },
  {
   "cell_type": "code",
   "execution_count": 10,
   "id": "lined-secret",
   "metadata": {},
   "outputs": [
    {
     "data": {
      "text/plain": [
       "array([0, 0, 0, 0, 0, 0, 0, 0, 0, 0, 0, 0, 0, 0, 0, 0, 0, 0, 0, 0, 0, 0,\n",
       "       0, 0, 0, 0, 0, 0, 0, 0, 0, 0, 0, 0, 0, 0, 0, 0, 0, 0, 0, 0, 0, 0,\n",
       "       0, 0, 0, 0, 0, 0, 1, 1, 1, 1, 1, 1, 1, 1, 1, 1, 1, 1, 1, 1, 1, 1,\n",
       "       1, 1, 1, 1, 1, 1, 1, 1, 1, 1, 1, 1, 1, 1, 1, 1, 1, 1, 1, 1, 1, 1,\n",
       "       1, 1, 1, 1, 1, 1, 1, 1, 1, 1, 1, 1, 2, 2, 2, 2, 2, 2, 2, 2, 2, 2,\n",
       "       2, 2, 2, 2, 2, 2, 2, 2, 2, 2, 2, 2, 2, 2, 2, 2, 2, 2, 2, 2, 2, 2,\n",
       "       2, 2, 2, 2, 2, 2, 2, 2, 2, 2, 2, 2, 2, 2, 2, 2, 2, 2])"
      ]
     },
     "execution_count": 10,
     "metadata": {},
     "output_type": "execute_result"
    }
   ],
   "source": [
    "iris.target"
   ]
  },
  {
   "cell_type": "code",
   "execution_count": 11,
   "id": "certified-effort",
   "metadata": {},
   "outputs": [],
   "source": [
    "X_train, X_test, y_train, y_test = train_test_split(iris.data, iris.target, test_size=0.3, random_state=123456)"
   ]
  },
  {
   "cell_type": "code",
   "execution_count": 12,
   "id": "extended-problem",
   "metadata": {},
   "outputs": [],
   "source": [
    "model = LogisticRegression(max_iter=8000)"
   ]
  },
  {
   "cell_type": "code",
   "execution_count": 13,
   "id": "tutorial-apache",
   "metadata": {},
   "outputs": [
    {
     "data": {
      "text/plain": [
       "LogisticRegression(max_iter=8000)"
      ]
     },
     "execution_count": 13,
     "metadata": {},
     "output_type": "execute_result"
    }
   ],
   "source": [
    "model.fit(X_train,y_train)"
   ]
  },
  {
   "cell_type": "code",
   "execution_count": 14,
   "id": "greek-asset",
   "metadata": {},
   "outputs": [
    {
     "name": "stdout",
     "output_type": "stream",
     "text": [
      "[[-0.40839599  0.86950177 -2.28295032 -0.9858388 ]\n",
      " [ 0.38004587 -0.30882418 -0.20618419 -0.71573653]\n",
      " [ 0.02835013 -0.56067759  2.48913451  1.70157533]]\n"
     ]
    }
   ],
   "source": [
    "print(model.coef_)"
   ]
  },
  {
   "cell_type": "code",
   "execution_count": 15,
   "id": "recovered-wiring",
   "metadata": {},
   "outputs": [
    {
     "name": "stdout",
     "output_type": "stream",
     "text": [
      "[  9.18145056   2.56354646 -11.74499703]\n"
     ]
    }
   ],
   "source": [
    "print(model.intercept_)"
   ]
  },
  {
   "cell_type": "code",
   "execution_count": 16,
   "id": "dominant-patent",
   "metadata": {},
   "outputs": [
    {
     "name": "stdout",
     "output_type": "stream",
     "text": [
      "0.9777777777777777\n"
     ]
    }
   ],
   "source": [
    "print(model.score(X_test, y_test))"
   ]
  },
  {
   "cell_type": "code",
   "execution_count": 18,
   "id": "digital-frequency",
   "metadata": {},
   "outputs": [],
   "source": [
    "y_pred = model.predict(X_test)"
   ]
  },
  {
   "cell_type": "code",
   "execution_count": 19,
   "id": "instrumental-aruba",
   "metadata": {},
   "outputs": [],
   "source": [
    "y_pred_prob = model.predict_proba(X_test)"
   ]
  },
  {
   "cell_type": "code",
   "execution_count": 20,
   "id": "breeding-fairy",
   "metadata": {},
   "outputs": [
    {
     "name": "stdout",
     "output_type": "stream",
     "text": [
      "              precision    recall  f1-score   support\n",
      "\n",
      "           0       1.00      1.00      1.00        15\n",
      "           1       1.00      0.93      0.97        15\n",
      "           2       0.94      1.00      0.97        15\n",
      "\n",
      "    accuracy                           0.98        45\n",
      "   macro avg       0.98      0.98      0.98        45\n",
      "weighted avg       0.98      0.98      0.98        45\n",
      "\n"
     ]
    }
   ],
   "source": [
    "print(classification_report(y_test, y_pred))"
   ]
  },
  {
   "cell_type": "code",
   "execution_count": 22,
   "id": "scientific-capitol",
   "metadata": {},
   "outputs": [
    {
     "name": "stdout",
     "output_type": "stream",
     "text": [
      "[0 2 0 1 0 0 2 2 2 0 1 2 2 0 0 2 1 2 1 0 1 2 1 1 1 2 2 2 2 1 0 1 0 1 1 0 1\n",
      " 0 0 2 1 2 0 0 2]\n"
     ]
    }
   ],
   "source": [
    "print(y_pred)"
   ]
  },
  {
   "cell_type": "code",
   "execution_count": 23,
   "id": "fresh-vinyl",
   "metadata": {},
   "outputs": [
    {
     "name": "stdout",
     "output_type": "stream",
     "text": [
      "[[9.83458866e-01 1.65410667e-02 6.73494910e-08]\n",
      " [3.41489722e-05 5.18779262e-02 9.48087925e-01]\n",
      " [9.85401123e-01 1.45988599e-02 1.74354660e-08]\n",
      " [8.64852066e-02 9.08072376e-01 5.44241737e-03]\n",
      " [9.52539508e-01 4.74602626e-02 2.29080635e-07]\n",
      " [9.82346431e-01 1.76535166e-02 5.28281571e-08]\n",
      " [2.63957132e-05 4.11973008e-02 9.58776303e-01]\n",
      " [1.31483287e-05 2.65757196e-02 9.73411132e-01]\n",
      " [5.24375635e-04 2.85700099e-01 7.13775525e-01]\n",
      " [9.75817310e-01 2.41825760e-02 1.14191918e-07]\n",
      " [4.20801259e-03 8.17687533e-01 1.78104454e-01]\n",
      " [2.10008587e-05 3.07776777e-02 9.69201321e-01]\n",
      " [8.74283169e-05 1.00612113e-01 8.99300459e-01]\n",
      " [9.69908935e-01 3.00909522e-02 1.12993157e-07]\n",
      " [9.76648386e-01 2.33514743e-02 1.40053447e-07]\n",
      " [2.20944066e-06 1.72815557e-02 9.82716235e-01]\n",
      " [2.64521849e-02 9.05021453e-01 6.85263622e-02]\n",
      " [3.80738261e-05 5.00355701e-02 9.49926356e-01]\n",
      " [3.82861937e-02 9.36527190e-01 2.51866159e-02]\n",
      " [9.62713610e-01 3.72860631e-02 3.27091867e-07]\n",
      " [4.44164877e-03 7.78180519e-01 2.17377832e-01]\n",
      " [3.40930128e-07 4.48251644e-03 9.95517143e-01]\n",
      " [1.17259322e-02 8.41583416e-01 1.46690652e-01]\n",
      " [5.52560179e-03 7.52034413e-01 2.42439985e-01]\n",
      " [1.75698275e-01 8.20305939e-01 3.99578537e-03]\n",
      " [3.31047215e-04 1.82342032e-01 8.17326920e-01]\n",
      " [1.80884485e-08 1.52216730e-03 9.98477815e-01]\n",
      " [1.66106436e-05 6.35964378e-02 9.36386952e-01]\n",
      " [3.06566706e-03 4.69982681e-01 5.26951652e-01]\n",
      " [9.76898490e-02 8.88481371e-01 1.38287797e-02]\n",
      " [9.73516884e-01 2.64829993e-02 1.17043128e-07]\n",
      " [2.93012071e-02 9.16355678e-01 5.43431150e-02]\n",
      " [9.83077223e-01 1.69227358e-02 4.12982895e-08]\n",
      " [3.65582731e-02 9.41018976e-01 2.24227514e-02]\n",
      " [4.31686024e-02 9.38686001e-01 1.81453966e-02]\n",
      " [9.69611740e-01 3.03880834e-02 1.76363776e-07]\n",
      " [4.26739266e-03 7.56576079e-01 2.39156528e-01]\n",
      " [9.84448882e-01 1.55510714e-02 4.65510886e-08]\n",
      " [9.80163508e-01 1.98364535e-02 3.83948607e-08]\n",
      " [2.09256861e-03 4.75409499e-01 5.22497933e-01]\n",
      " [5.25461077e-03 8.86374668e-01 1.08370721e-01]\n",
      " [1.39879321e-03 2.57244256e-01 7.41356951e-01]\n",
      " [9.63214998e-01 3.67848690e-02 1.33314129e-07]\n",
      " [9.65377659e-01 3.46222154e-02 1.25148599e-07]\n",
      " [1.16713937e-03 4.58169285e-01 5.40663576e-01]]\n"
     ]
    }
   ],
   "source": [
    "print(y_pred_prob)"
   ]
  },
  {
   "cell_type": "code",
   "execution_count": 26,
   "id": "adopted-massage",
   "metadata": {},
   "outputs": [
    {
     "data": {
      "text/plain": [
       "1.0"
      ]
     },
     "execution_count": 26,
     "metadata": {},
     "output_type": "execute_result"
    }
   ],
   "source": [
    "y_pred_prob[0].sum()"
   ]
  },
  {
   "cell_type": "code",
   "execution_count": null,
   "id": "embedded-trust",
   "metadata": {},
   "outputs": [],
   "source": []
  }
 ],
 "metadata": {
  "kernelspec": {
   "display_name": "Python 3",
   "language": "python",
   "name": "python3"
  },
  "language_info": {
   "codemirror_mode": {
    "name": "ipython",
    "version": 3
   },
   "file_extension": ".py",
   "mimetype": "text/x-python",
   "name": "python",
   "nbconvert_exporter": "python",
   "pygments_lexer": "ipython3",
   "version": "3.9.2"
  }
 },
 "nbformat": 4,
 "nbformat_minor": 5
}
