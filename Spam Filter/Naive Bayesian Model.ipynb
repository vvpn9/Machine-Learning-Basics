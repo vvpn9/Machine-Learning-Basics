{
 "cells": [
  {
   "cell_type": "code",
   "execution_count": 12,
   "metadata": {
    "collapsed": true
   },
   "outputs": [],
   "source": [
    "import os"
   ]
  },
  {
   "cell_type": "code",
   "execution_count": 13,
   "outputs": [],
   "source": [
    "def fileWalker(path):\n",
    "    fileArray = []\n",
    "    for roots, dirs, files in os.walk(path):\n",
    "        for fn in files:\n",
    "            eachpath = str(roots + '/' + fn)\n",
    "            fileArray.append(eachpath)\n",
    "    # print(fileArray)\n",
    "    return fileArray"
   ],
   "metadata": {
    "collapsed": false,
    "pycharm": {
     "name": "#%%\n"
    }
   }
  },
  {
   "cell_type": "code",
   "execution_count": 14,
   "outputs": [],
   "source": [
    "# fileWalker('/Users/zw/Desktop/Data Learning/Machine Learning Basics/Spam Filter')"
   ],
   "metadata": {
    "collapsed": false,
    "pycharm": {
     "name": "#%%\n"
    }
   }
  },
  {
   "cell_type": "code",
   "execution_count": 15,
   "outputs": [],
   "source": [
    "def readText(path, encoding):\n",
    "    with open(path, 'r', encoding=encoding) as f:\n",
    "        lines = f.readlines()\n",
    "    # print(lines)\n",
    "    return lines"
   ],
   "metadata": {
    "collapsed": false,
    "pycharm": {
     "name": "#%%\n"
    }
   }
  },
  {
   "cell_type": "code",
   "execution_count": 16,
   "outputs": [],
   "source": [
    "# readText('/Users/zw/Desktop/Data Learning/Machine Learning Basics/Spam Filter/ham/1.txt',\n",
    "#          encoding='utf-8')"
   ],
   "metadata": {
    "collapsed": false,
    "pycharm": {
     "name": "#%%\n"
    }
   }
  },
  {
   "cell_type": "code",
   "execution_count": 17,
   "outputs": [],
   "source": [
    "def email_parser(email_path):\n",
    "    punctuations = \"\"\",.<>()*&^%$#@!'\";~`[]{}|、\\\\/~+_-=?\"\"\"\n",
    "    content_list = readText(email_path, 'utf-8')\n",
    "    content = (' '.join(content_list)).replace('\\r\\n', ' ').replace('\\t', ' ')  # LF, CR, HT\n",
    "    clean_word = []\n",
    "    for punctuation in punctuations:\n",
    "        content = (' '.join(content.split(punctuation))).replace('  ', ' ')\n",
    "        clean_word = [word.lower for word in content.split(' ') if len(word) > 2]\n",
    "    # print(clean_word)\n",
    "    return clean_word"
   ],
   "metadata": {
    "collapsed": false,
    "pycharm": {
     "name": "#%%\n"
    }
   }
  },
  {
   "cell_type": "code",
   "execution_count": 18,
   "outputs": [],
   "source": [
    "# email_parser('/Users/zw/Desktop/Data Learning/Machine Learning Basics/Spam Filter/ham/1.txt')"
   ],
   "metadata": {
    "collapsed": false,
    "pycharm": {
     "name": "#%%\n"
    }
   }
  },
  {
   "cell_type": "code",
   "execution_count": 19,
   "outputs": [],
   "source": [
    "def get_word(email_dir):\n",
    "    word_list = []\n",
    "    word_set = []\n",
    "    email_paths = fileWalker(email_dir)\n",
    "    for each_email_path in email_paths:\n",
    "        clean_word = email_parser(each_email_path)\n",
    "        word_list.append(clean_word)\n",
    "        word_set.extend(clean_word)\n",
    "    # print(word_list)\n",
    "    # print(set(word_set))\n",
    "    # print(type(word_set))\n",
    "    return word_list, set(word_set)"
   ],
   "metadata": {
    "collapsed": false,
    "pycharm": {
     "name": "#%%\n"
    }
   }
  },
  {
   "cell_type": "code",
   "execution_count": 20,
   "outputs": [],
   "source": [
    "# get_word('/Users/zw/Desktop/Data Learning/Machine Learning Basics/Spam Filter/ham/')"
   ],
   "metadata": {
    "collapsed": false,
    "pycharm": {
     "name": "#%%\n"
    }
   }
  },
  {
   "cell_type": "code",
   "execution_count": 21,
   "outputs": [],
   "source": [
    "def count_word_prob(email_list, union_set):\n",
    "    word_prob = {}\n",
    "    for word in union_set:\n",
    "        counter = 0\n",
    "        for email in email_list:\n",
    "            if word in email:\n",
    "                counter += 1\n",
    "            else:\n",
    "                continue\n",
    "        # prob = 0.0\n",
    "        if counter != 0:\n",
    "            prob = counter/len(email_list)\n",
    "        else:\n",
    "            prob = 0.01\n",
    "        word_prob[word] = prob\n",
    "    return word_prob"
   ],
   "metadata": {
    "collapsed": false,
    "pycharm": {
     "name": "#%%\n"
    }
   }
  },
  {
   "cell_type": "code",
   "execution_count": 22,
   "outputs": [],
   "source": [
    "def myfilter(ham_word_pro, spam_word_pro, test_file):\n",
    "    test_paths = fileWalker(test_file)\n",
    "    for test_path in test_paths:\n",
    "        # email_spam_prob = 0.0\n",
    "        spam_prob = 0.5\n",
    "        ham_prob = 0.5\n",
    "        file_name = test_path.split('/')[-1]\n",
    "        prob_dict = {}\n",
    "        words = set(email_parser(test_path))\n",
    "        for word in words:\n",
    "            # Psw = 0.0\n",
    "            if word not in spam_word_pro:\n",
    "                Psw = 0.4\n",
    "            else:\n",
    "                Pws = spam_word_pro[word]\n",
    "                Pwh = ham_word_pro[word]\n",
    "                Psw = spam_prob*(Pws/(Pwh*ham_prob+Pws*spam_prob))\n",
    "            prob_dict[word] = Psw\n",
    "        numerator = 1\n",
    "        denominator_h = 1\n",
    "        for k, v in prob_dict.items():\n",
    "            numerator *= v\n",
    "            denominator_h *= (1-v)\n",
    "        email_spam_prob = round(numerator/(numerator+denominator_h), 4)\n",
    "        if email_spam_prob > 0.5:\n",
    "            print(file_name, 'Spam', email_spam_prob)\n",
    "        else:\n",
    "            print(file_name, 'Ham', email_spam_prob)"
   ],
   "metadata": {
    "collapsed": false,
    "pycharm": {
     "name": "#%%\n"
    }
   }
  },
  {
   "cell_type": "code",
   "execution_count": 23,
   "outputs": [],
   "source": [
    "def main():\n",
    "    ham_file = './ham'\n",
    "    spam_file = './spam'\n",
    "    test_file = './test'\n",
    "    ham_list, ham_set = get_word(ham_file)\n",
    "    spam_list, spam_set = get_word(spam_file)\n",
    "    union_set = ham_set | ham_set\n",
    "    ham_word_pro = count_word_prob(ham_list, union_set)\n",
    "    spam_word_pro = count_word_prob(spam_list, union_set)\n",
    "    myfilter(ham_word_pro, spam_word_pro, test_file)"
   ],
   "metadata": {
    "collapsed": false,
    "pycharm": {
     "name": "#%%\n"
    }
   }
  },
  {
   "cell_type": "code",
   "execution_count": 24,
   "outputs": [
    {
     "name": "stdout",
     "output_type": "stream",
     "text": [
      "10.txt Ham 0.0\n",
      "9.txt Ham 0.0001\n",
      "8.txt Ham 0.0\n",
      "5.txt Ham 0.0005\n",
      "4.txt Ham 0.0\n",
      "6.txt Ham 0.0\n",
      "7.txt Ham 0.0001\n",
      "3.txt Ham 0.0\n",
      "2.txt Ham 0.0\n",
      "1.txt Ham 0.0002\n"
     ]
    }
   ],
   "source": [
    "main()"
   ],
   "metadata": {
    "collapsed": false,
    "pycharm": {
     "name": "#%%\n"
    }
   }
  },
  {
   "cell_type": "code",
   "execution_count": 24,
   "outputs": [],
   "source": [],
   "metadata": {
    "collapsed": false,
    "pycharm": {
     "name": "#%%\n"
    }
   }
  }
 ],
 "metadata": {
  "kernelspec": {
   "display_name": "Python 3",
   "language": "python",
   "name": "python3"
  },
  "language_info": {
   "codemirror_mode": {
    "name": "ipython",
    "version": 2
   },
   "file_extension": ".py",
   "mimetype": "text/x-python",
   "name": "python",
   "nbconvert_exporter": "python",
   "pygments_lexer": "ipython2",
   "version": "2.7.6"
  }
 },
 "nbformat": 4,
 "nbformat_minor": 0
}