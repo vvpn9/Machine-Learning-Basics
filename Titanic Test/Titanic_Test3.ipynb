{
 "cells": [
  {
   "cell_type": "code",
   "execution_count": 1,
   "id": "therapeutic-promotion",
   "metadata": {},
   "outputs": [],
   "source": [
    "import pandas as pd"
   ]
  },
  {
   "cell_type": "code",
   "execution_count": 2,
   "id": "explicit-permission",
   "metadata": {},
   "outputs": [],
   "source": [
    "import pickle"
   ]
  },
  {
   "cell_type": "code",
   "execution_count": 3,
   "id": "generic-perfume",
   "metadata": {},
   "outputs": [
    {
     "name": "stdout",
     "output_type": "stream",
     "text": [
      "<class 'pandas.core.frame.DataFrame'>\n",
      "RangeIndex: 891 entries, 0 to 890\n",
      "Data columns (total 8 columns):\n",
      " #   Column    Non-Null Count  Dtype  \n",
      "---  ------    --------------  -----  \n",
      " 0   Survived  891 non-null    int64  \n",
      " 1   Pclass    891 non-null    int64  \n",
      " 2   Sex       891 non-null    object \n",
      " 3   Age       714 non-null    float64\n",
      " 4   SibSp     891 non-null    int64  \n",
      " 5   Parch     891 non-null    int64  \n",
      " 6   Fare      891 non-null    float64\n",
      " 7   Embarked  889 non-null    object \n",
      "dtypes: float64(2), int64(4), object(2)\n",
      "memory usage: 55.8+ KB\n",
      "<class 'pandas.core.frame.DataFrame'>\n",
      "RangeIndex: 891 entries, 0 to 890\n",
      "Data columns (total 9 columns):\n",
      " #   Column        Non-Null Count  Dtype  \n",
      "---  ------        --------------  -----  \n",
      " 0   Survived      891 non-null    int64  \n",
      " 1   Pclass        891 non-null    int64  \n",
      " 2   Sex           891 non-null    object \n",
      " 3   Age           891 non-null    float64\n",
      " 4   SibSp         891 non-null    int64  \n",
      " 5   Parch         891 non-null    int64  \n",
      " 6   Fare          891 non-null    float64\n",
      " 7   Embarked      889 non-null    object \n",
      " 8   AgeIsMissing  891 non-null    int64  \n",
      "dtypes: float64(2), int64(5), object(2)\n",
      "memory usage: 62.8+ KB\n",
      "<class 'pandas.core.frame.DataFrame'>\n",
      "RangeIndex: 891 entries, 0 to 890\n",
      "Data columns (total 9 columns):\n",
      " #   Column        Non-Null Count  Dtype  \n",
      "---  ------        --------------  -----  \n",
      " 0   Survived      891 non-null    int64  \n",
      " 1   Pclass        891 non-null    int64  \n",
      " 2   Sex           891 non-null    object \n",
      " 3   Age           891 non-null    float64\n",
      " 4   SibSp         891 non-null    int64  \n",
      " 5   Parch         891 non-null    int64  \n",
      " 6   Fare          891 non-null    float64\n",
      " 7   Embarked      891 non-null    object \n",
      " 8   AgeIsMissing  891 non-null    int64  \n",
      "dtypes: float64(2), int64(5), object(2)\n",
      "memory usage: 62.8+ KB\n",
      "<class 'pandas.core.frame.DataFrame'>\n",
      "RangeIndex: 891 entries, 0 to 890\n",
      "Data columns (total 15 columns):\n",
      " #   Column        Non-Null Count  Dtype   \n",
      "---  ------        --------------  -----   \n",
      " 0   Survived      891 non-null    int64   \n",
      " 1   Pclass        891 non-null    int64   \n",
      " 2   Sex           891 non-null    object  \n",
      " 3   Age           891 non-null    float64 \n",
      " 4   SibSp         891 non-null    int64   \n",
      " 5   Parch         891 non-null    int64   \n",
      " 6   Fare          891 non-null    float64 \n",
      " 7   Embarked      891 non-null    object  \n",
      " 8   AgeIsMissing  891 non-null    int64   \n",
      " 9   Age_bin       891 non-null    category\n",
      " 10  Fare_bin      891 non-null    category\n",
      " 11  FamilySize    891 non-null    int64   \n",
      " 12  IsAlone       891 non-null    int64   \n",
      " 13  IsMother      891 non-null    int64   \n",
      " 14  SexAge_Combo  891 non-null    object  \n",
      "dtypes: category(2), float64(2), int64(8), object(3)\n",
      "memory usage: 92.8+ KB\n",
      "<class 'pandas.core.frame.DataFrame'>\n",
      "RangeIndex: 891 entries, 0 to 890\n",
      "Data columns (total 41 columns):\n",
      " #   Column                         Non-Null Count  Dtype\n",
      "---  ------                         --------------  -----\n",
      " 0   Survived                       891 non-null    int64\n",
      " 1   AgeIsMissing                   891 non-null    int64\n",
      " 2   IsAlone                        891 non-null    int64\n",
      " 3   IsMother                       891 non-null    int64\n",
      " 4   Pclass_1                       891 non-null    uint8\n",
      " 5   Pclass_2                       891 non-null    uint8\n",
      " 6   Pclass_3                       891 non-null    uint8\n",
      " 7   Sex_female                     891 non-null    uint8\n",
      " 8   Sex_male                       891 non-null    uint8\n",
      " 9   Embarked_C                     891 non-null    uint8\n",
      " 10  Embarked_Q                     891 non-null    uint8\n",
      " 11  Embarked_S                     891 non-null    uint8\n",
      " 12  Age_bin_(0, 18]                891 non-null    uint8\n",
      " 13  Age_bin_(18, 25]               891 non-null    uint8\n",
      " 14  Age_bin_(25, 40]               891 non-null    uint8\n",
      " 15  Age_bin_(40, 60]               891 non-null    uint8\n",
      " 16  Age_bin_(60, 100]              891 non-null    uint8\n",
      " 17  Fare_bin_(-0.001, 7.854]       891 non-null    uint8\n",
      " 18  Fare_bin_(7.854, 10.5]         891 non-null    uint8\n",
      " 19  Fare_bin_(10.5, 21.679]        891 non-null    uint8\n",
      " 20  Fare_bin_(21.679, 39.688]      891 non-null    uint8\n",
      " 21  Fare_bin_(39.688, 512.329]     891 non-null    uint8\n",
      " 22  FamilySize_1                   891 non-null    uint8\n",
      " 23  FamilySize_2                   891 non-null    uint8\n",
      " 24  FamilySize_3                   891 non-null    uint8\n",
      " 25  FamilySize_4                   891 non-null    uint8\n",
      " 26  FamilySize_5                   891 non-null    uint8\n",
      " 27  FamilySize_6                   891 non-null    uint8\n",
      " 28  FamilySize_7                   891 non-null    uint8\n",
      " 29  FamilySize_8                   891 non-null    uint8\n",
      " 30  FamilySize_11                  891 non-null    uint8\n",
      " 31  SexAge_Combo_female_(0, 18]    891 non-null    uint8\n",
      " 32  SexAge_Combo_female_(18, 25]   891 non-null    uint8\n",
      " 33  SexAge_Combo_female_(25, 40]   891 non-null    uint8\n",
      " 34  SexAge_Combo_female_(40, 60]   891 non-null    uint8\n",
      " 35  SexAge_Combo_female_(60, 100]  891 non-null    uint8\n",
      " 36  SexAge_Combo_male_(0, 18]      891 non-null    uint8\n",
      " 37  SexAge_Combo_male_(18, 25]     891 non-null    uint8\n",
      " 38  SexAge_Combo_male_(25, 40]     891 non-null    uint8\n",
      " 39  SexAge_Combo_male_(40, 60]     891 non-null    uint8\n",
      " 40  SexAge_Combo_male_(60, 100]    891 non-null    uint8\n",
      "dtypes: int64(4), uint8(37)\n",
      "memory usage: 60.2 KB\n",
      "              precision    recall  f1-score   support\n",
      "\n",
      "           0       0.82      0.81      0.81       166\n",
      "           1       0.70      0.72      0.71       102\n",
      "\n",
      "    accuracy                           0.77       268\n",
      "   macro avg       0.76      0.76      0.76       268\n",
      "weighted avg       0.77      0.77      0.77       268\n",
      "\n"
     ]
    }
   ],
   "source": [
    "from Titanic_Test2 import lr"
   ]
  },
  {
   "cell_type": "code",
   "execution_count": 4,
   "id": "flush-cause",
   "metadata": {},
   "outputs": [],
   "source": [
    "titanic_df = pd.read_csv('test.csv')"
   ]
  },
  {
   "cell_type": "code",
   "execution_count": 5,
   "id": "advanced-expert",
   "metadata": {},
   "outputs": [
    {
     "data": {
      "text/plain": "   PassengerId  Pclass                                          Name     Sex  \\\n0          892       3                              Kelly, Mr. James    male   \n1          893       3              Wilkes, Mrs. James (Ellen Needs)  female   \n2          894       2                     Myles, Mr. Thomas Francis    male   \n3          895       3                              Wirz, Mr. Albert    male   \n4          896       3  Hirvonen, Mrs. Alexander (Helga E Lindqvist)  female   \n5          897       3                    Svensson, Mr. Johan Cervin    male   \n6          898       3                          Connolly, Miss. Kate  female   \n7          899       2                  Caldwell, Mr. Albert Francis    male   \n8          900       3     Abrahim, Mrs. Joseph (Sophie Halaut Easu)  female   \n9          901       3                       Davies, Mr. John Samuel    male   \n\n    Age  SibSp  Parch     Ticket     Fare Cabin Embarked  \n0  34.5      0      0     330911   7.8292   NaN        Q  \n1  47.0      1      0     363272   7.0000   NaN        S  \n2  62.0      0      0     240276   9.6875   NaN        Q  \n3  27.0      0      0     315154   8.6625   NaN        S  \n4  22.0      1      1    3101298  12.2875   NaN        S  \n5  14.0      0      0       7538   9.2250   NaN        S  \n6  30.0      0      0     330972   7.6292   NaN        Q  \n7  26.0      1      1     248738  29.0000   NaN        S  \n8  18.0      0      0       2657   7.2292   NaN        C  \n9  21.0      2      0  A/4 48871  24.1500   NaN        S  ",
      "text/html": "<div>\n<style scoped>\n    .dataframe tbody tr th:only-of-type {\n        vertical-align: middle;\n    }\n\n    .dataframe tbody tr th {\n        vertical-align: top;\n    }\n\n    .dataframe thead th {\n        text-align: right;\n    }\n</style>\n<table border=\"1\" class=\"dataframe\">\n  <thead>\n    <tr style=\"text-align: right;\">\n      <th></th>\n      <th>PassengerId</th>\n      <th>Pclass</th>\n      <th>Name</th>\n      <th>Sex</th>\n      <th>Age</th>\n      <th>SibSp</th>\n      <th>Parch</th>\n      <th>Ticket</th>\n      <th>Fare</th>\n      <th>Cabin</th>\n      <th>Embarked</th>\n    </tr>\n  </thead>\n  <tbody>\n    <tr>\n      <th>0</th>\n      <td>892</td>\n      <td>3</td>\n      <td>Kelly, Mr. James</td>\n      <td>male</td>\n      <td>34.5</td>\n      <td>0</td>\n      <td>0</td>\n      <td>330911</td>\n      <td>7.8292</td>\n      <td>NaN</td>\n      <td>Q</td>\n    </tr>\n    <tr>\n      <th>1</th>\n      <td>893</td>\n      <td>3</td>\n      <td>Wilkes, Mrs. James (Ellen Needs)</td>\n      <td>female</td>\n      <td>47.0</td>\n      <td>1</td>\n      <td>0</td>\n      <td>363272</td>\n      <td>7.0000</td>\n      <td>NaN</td>\n      <td>S</td>\n    </tr>\n    <tr>\n      <th>2</th>\n      <td>894</td>\n      <td>2</td>\n      <td>Myles, Mr. Thomas Francis</td>\n      <td>male</td>\n      <td>62.0</td>\n      <td>0</td>\n      <td>0</td>\n      <td>240276</td>\n      <td>9.6875</td>\n      <td>NaN</td>\n      <td>Q</td>\n    </tr>\n    <tr>\n      <th>3</th>\n      <td>895</td>\n      <td>3</td>\n      <td>Wirz, Mr. Albert</td>\n      <td>male</td>\n      <td>27.0</td>\n      <td>0</td>\n      <td>0</td>\n      <td>315154</td>\n      <td>8.6625</td>\n      <td>NaN</td>\n      <td>S</td>\n    </tr>\n    <tr>\n      <th>4</th>\n      <td>896</td>\n      <td>3</td>\n      <td>Hirvonen, Mrs. Alexander (Helga E Lindqvist)</td>\n      <td>female</td>\n      <td>22.0</td>\n      <td>1</td>\n      <td>1</td>\n      <td>3101298</td>\n      <td>12.2875</td>\n      <td>NaN</td>\n      <td>S</td>\n    </tr>\n    <tr>\n      <th>5</th>\n      <td>897</td>\n      <td>3</td>\n      <td>Svensson, Mr. Johan Cervin</td>\n      <td>male</td>\n      <td>14.0</td>\n      <td>0</td>\n      <td>0</td>\n      <td>7538</td>\n      <td>9.2250</td>\n      <td>NaN</td>\n      <td>S</td>\n    </tr>\n    <tr>\n      <th>6</th>\n      <td>898</td>\n      <td>3</td>\n      <td>Connolly, Miss. Kate</td>\n      <td>female</td>\n      <td>30.0</td>\n      <td>0</td>\n      <td>0</td>\n      <td>330972</td>\n      <td>7.6292</td>\n      <td>NaN</td>\n      <td>Q</td>\n    </tr>\n    <tr>\n      <th>7</th>\n      <td>899</td>\n      <td>2</td>\n      <td>Caldwell, Mr. Albert Francis</td>\n      <td>male</td>\n      <td>26.0</td>\n      <td>1</td>\n      <td>1</td>\n      <td>248738</td>\n      <td>29.0000</td>\n      <td>NaN</td>\n      <td>S</td>\n    </tr>\n    <tr>\n      <th>8</th>\n      <td>900</td>\n      <td>3</td>\n      <td>Abrahim, Mrs. Joseph (Sophie Halaut Easu)</td>\n      <td>female</td>\n      <td>18.0</td>\n      <td>0</td>\n      <td>0</td>\n      <td>2657</td>\n      <td>7.2292</td>\n      <td>NaN</td>\n      <td>C</td>\n    </tr>\n    <tr>\n      <th>9</th>\n      <td>901</td>\n      <td>3</td>\n      <td>Davies, Mr. John Samuel</td>\n      <td>male</td>\n      <td>21.0</td>\n      <td>2</td>\n      <td>0</td>\n      <td>A/4 48871</td>\n      <td>24.1500</td>\n      <td>NaN</td>\n      <td>S</td>\n    </tr>\n  </tbody>\n</table>\n</div>"
     },
     "execution_count": 5,
     "metadata": {},
     "output_type": "execute_result"
    }
   ],
   "source": [
    "titanic_df.head(10)"
   ]
  },
  {
   "cell_type": "code",
   "execution_count": 6,
   "id": "centered-trunk",
   "metadata": {},
   "outputs": [],
   "source": [
    "titanic_df = titanic_df.drop(['Name','Ticket','Cabin'], axis = 1)"
   ]
  },
  {
   "cell_type": "code",
   "execution_count": 7,
   "id": "excited-hazard",
   "metadata": {},
   "outputs": [],
   "source": [
    "titanic_df['AgeIsMissing'] = 0"
   ]
  },
  {
   "cell_type": "code",
   "execution_count": 8,
   "id": "complex-example",
   "metadata": {
    "scrolled": true
   },
   "outputs": [],
   "source": [
    "titanic_df.loc[titanic_df['Age'].isnull(), 'AgeIsMissing'] = 1"
   ]
  },
  {
   "cell_type": "code",
   "execution_count": 9,
   "id": "dried-criticism",
   "metadata": {},
   "outputs": [
    {
     "name": "stdout",
     "output_type": "stream",
     "text": [
      "<class 'pandas.core.frame.DataFrame'>\n",
      "RangeIndex: 418 entries, 0 to 417\n",
      "Data columns (total 9 columns):\n",
      " #   Column        Non-Null Count  Dtype  \n",
      "---  ------        --------------  -----  \n",
      " 0   PassengerId   418 non-null    int64  \n",
      " 1   Pclass        418 non-null    int64  \n",
      " 2   Sex           418 non-null    object \n",
      " 3   Age           332 non-null    float64\n",
      " 4   SibSp         418 non-null    int64  \n",
      " 5   Parch         418 non-null    int64  \n",
      " 6   Fare          417 non-null    float64\n",
      " 7   Embarked      418 non-null    object \n",
      " 8   AgeIsMissing  418 non-null    int64  \n",
      "dtypes: float64(2), int64(5), object(2)\n",
      "memory usage: 29.5+ KB\n"
     ]
    }
   ],
   "source": [
    "titanic_df.info()"
   ]
  },
  {
   "cell_type": "code",
   "execution_count": 10,
   "id": "composite-listing",
   "metadata": {},
   "outputs": [],
   "source": [
    "titanic_df['Embarked'].fillna('S', inplace=True)"
   ]
  },
  {
   "cell_type": "code",
   "execution_count": 11,
   "id": "fatty-positive",
   "metadata": {},
   "outputs": [
    {
     "name": "stdout",
     "output_type": "stream",
     "text": [
      "<class 'pandas.core.frame.DataFrame'>\n",
      "RangeIndex: 418 entries, 0 to 417\n",
      "Data columns (total 9 columns):\n",
      " #   Column        Non-Null Count  Dtype  \n",
      "---  ------        --------------  -----  \n",
      " 0   PassengerId   418 non-null    int64  \n",
      " 1   Pclass        418 non-null    int64  \n",
      " 2   Sex           418 non-null    object \n",
      " 3   Age           332 non-null    float64\n",
      " 4   SibSp         418 non-null    int64  \n",
      " 5   Parch         418 non-null    int64  \n",
      " 6   Fare          417 non-null    float64\n",
      " 7   Embarked      418 non-null    object \n",
      " 8   AgeIsMissing  418 non-null    int64  \n",
      "dtypes: float64(2), int64(5), object(2)\n",
      "memory usage: 29.5+ KB\n"
     ]
    }
   ],
   "source": [
    "titanic_df.info()"
   ]
  },
  {
   "cell_type": "code",
   "execution_count": 12,
   "id": "foster-petite",
   "metadata": {},
   "outputs": [],
   "source": [
    "cut_points = [0, 18, 25, 40, 60, 100]"
   ]
  },
  {
   "cell_type": "code",
   "execution_count": 13,
   "id": "earned-digest",
   "metadata": {},
   "outputs": [],
   "source": [
    "titanic_df['AgeBin'] = pd.cut(titanic_df.Age, cut_points)"
   ]
  },
  {
   "cell_type": "code",
   "execution_count": 14,
   "id": "received-header",
   "metadata": {},
   "outputs": [
    {
     "data": {
      "text/plain": "   PassengerId  Pclass     Sex   Age  SibSp  Parch     Fare Embarked  \\\n0          892       3    male  34.5      0      0   7.8292        Q   \n1          893       3  female  47.0      1      0   7.0000        S   \n2          894       2    male  62.0      0      0   9.6875        Q   \n3          895       3    male  27.0      0      0   8.6625        S   \n4          896       3  female  22.0      1      1  12.2875        S   \n\n   AgeIsMissing     AgeBin  \n0             0   (25, 40]  \n1             0   (40, 60]  \n2             0  (60, 100]  \n3             0   (25, 40]  \n4             0   (18, 25]  ",
      "text/html": "<div>\n<style scoped>\n    .dataframe tbody tr th:only-of-type {\n        vertical-align: middle;\n    }\n\n    .dataframe tbody tr th {\n        vertical-align: top;\n    }\n\n    .dataframe thead th {\n        text-align: right;\n    }\n</style>\n<table border=\"1\" class=\"dataframe\">\n  <thead>\n    <tr style=\"text-align: right;\">\n      <th></th>\n      <th>PassengerId</th>\n      <th>Pclass</th>\n      <th>Sex</th>\n      <th>Age</th>\n      <th>SibSp</th>\n      <th>Parch</th>\n      <th>Fare</th>\n      <th>Embarked</th>\n      <th>AgeIsMissing</th>\n      <th>AgeBin</th>\n    </tr>\n  </thead>\n  <tbody>\n    <tr>\n      <th>0</th>\n      <td>892</td>\n      <td>3</td>\n      <td>male</td>\n      <td>34.5</td>\n      <td>0</td>\n      <td>0</td>\n      <td>7.8292</td>\n      <td>Q</td>\n      <td>0</td>\n      <td>(25, 40]</td>\n    </tr>\n    <tr>\n      <th>1</th>\n      <td>893</td>\n      <td>3</td>\n      <td>female</td>\n      <td>47.0</td>\n      <td>1</td>\n      <td>0</td>\n      <td>7.0000</td>\n      <td>S</td>\n      <td>0</td>\n      <td>(40, 60]</td>\n    </tr>\n    <tr>\n      <th>2</th>\n      <td>894</td>\n      <td>2</td>\n      <td>male</td>\n      <td>62.0</td>\n      <td>0</td>\n      <td>0</td>\n      <td>9.6875</td>\n      <td>Q</td>\n      <td>0</td>\n      <td>(60, 100]</td>\n    </tr>\n    <tr>\n      <th>3</th>\n      <td>895</td>\n      <td>3</td>\n      <td>male</td>\n      <td>27.0</td>\n      <td>0</td>\n      <td>0</td>\n      <td>8.6625</td>\n      <td>S</td>\n      <td>0</td>\n      <td>(25, 40]</td>\n    </tr>\n    <tr>\n      <th>4</th>\n      <td>896</td>\n      <td>3</td>\n      <td>female</td>\n      <td>22.0</td>\n      <td>1</td>\n      <td>1</td>\n      <td>12.2875</td>\n      <td>S</td>\n      <td>0</td>\n      <td>(18, 25]</td>\n    </tr>\n  </tbody>\n</table>\n</div>"
     },
     "execution_count": 14,
     "metadata": {},
     "output_type": "execute_result"
    }
   ],
   "source": [
    "titanic_df.head()"
   ]
  },
  {
   "cell_type": "code",
   "execution_count": 15,
   "id": "cutting-rapid",
   "metadata": {},
   "outputs": [],
   "source": [
    "titanic_df['FareBin'] = pd.qcut(titanic_df.Fare, 5)"
   ]
  },
  {
   "cell_type": "code",
   "execution_count": 16,
   "id": "north-burns",
   "metadata": {},
   "outputs": [
    {
     "data": {
      "text/plain": "   PassengerId  Pclass     Sex   Age  SibSp  Parch     Fare Embarked  \\\n0          892       3    male  34.5      0      0   7.8292        Q   \n1          893       3  female  47.0      1      0   7.0000        S   \n2          894       2    male  62.0      0      0   9.6875        Q   \n3          895       3    male  27.0      0      0   8.6625        S   \n4          896       3  female  22.0      1      1  12.2875        S   \n\n   AgeIsMissing     AgeBin           FareBin  \n0             0   (25, 40]   (7.796, 11.025]  \n1             0   (40, 60]   (-0.001, 7.796]  \n2             0  (60, 100]   (7.796, 11.025]  \n3             0   (25, 40]   (7.796, 11.025]  \n4             0   (18, 25]  (11.025, 21.438]  ",
      "text/html": "<div>\n<style scoped>\n    .dataframe tbody tr th:only-of-type {\n        vertical-align: middle;\n    }\n\n    .dataframe tbody tr th {\n        vertical-align: top;\n    }\n\n    .dataframe thead th {\n        text-align: right;\n    }\n</style>\n<table border=\"1\" class=\"dataframe\">\n  <thead>\n    <tr style=\"text-align: right;\">\n      <th></th>\n      <th>PassengerId</th>\n      <th>Pclass</th>\n      <th>Sex</th>\n      <th>Age</th>\n      <th>SibSp</th>\n      <th>Parch</th>\n      <th>Fare</th>\n      <th>Embarked</th>\n      <th>AgeIsMissing</th>\n      <th>AgeBin</th>\n      <th>FareBin</th>\n    </tr>\n  </thead>\n  <tbody>\n    <tr>\n      <th>0</th>\n      <td>892</td>\n      <td>3</td>\n      <td>male</td>\n      <td>34.5</td>\n      <td>0</td>\n      <td>0</td>\n      <td>7.8292</td>\n      <td>Q</td>\n      <td>0</td>\n      <td>(25, 40]</td>\n      <td>(7.796, 11.025]</td>\n    </tr>\n    <tr>\n      <th>1</th>\n      <td>893</td>\n      <td>3</td>\n      <td>female</td>\n      <td>47.0</td>\n      <td>1</td>\n      <td>0</td>\n      <td>7.0000</td>\n      <td>S</td>\n      <td>0</td>\n      <td>(40, 60]</td>\n      <td>(-0.001, 7.796]</td>\n    </tr>\n    <tr>\n      <th>2</th>\n      <td>894</td>\n      <td>2</td>\n      <td>male</td>\n      <td>62.0</td>\n      <td>0</td>\n      <td>0</td>\n      <td>9.6875</td>\n      <td>Q</td>\n      <td>0</td>\n      <td>(60, 100]</td>\n      <td>(7.796, 11.025]</td>\n    </tr>\n    <tr>\n      <th>3</th>\n      <td>895</td>\n      <td>3</td>\n      <td>male</td>\n      <td>27.0</td>\n      <td>0</td>\n      <td>0</td>\n      <td>8.6625</td>\n      <td>S</td>\n      <td>0</td>\n      <td>(25, 40]</td>\n      <td>(7.796, 11.025]</td>\n    </tr>\n    <tr>\n      <th>4</th>\n      <td>896</td>\n      <td>3</td>\n      <td>female</td>\n      <td>22.0</td>\n      <td>1</td>\n      <td>1</td>\n      <td>12.2875</td>\n      <td>S</td>\n      <td>0</td>\n      <td>(18, 25]</td>\n      <td>(11.025, 21.438]</td>\n    </tr>\n  </tbody>\n</table>\n</div>"
     },
     "execution_count": 16,
     "metadata": {},
     "output_type": "execute_result"
    }
   ],
   "source": [
    "titanic_df.head()"
   ]
  },
  {
   "cell_type": "code",
   "execution_count": 17,
   "id": "passive-project",
   "metadata": {},
   "outputs": [],
   "source": [
    "titanic_df['FamilySize'] = titanic_df['SibSp'] + titanic_df['Parch'] + 1"
   ]
  },
  {
   "cell_type": "code",
   "execution_count": 18,
   "id": "official-small",
   "metadata": {},
   "outputs": [
    {
     "data": {
      "text/plain": "   PassengerId  Pclass     Sex   Age  SibSp  Parch     Fare Embarked  \\\n0          892       3    male  34.5      0      0   7.8292        Q   \n1          893       3  female  47.0      1      0   7.0000        S   \n2          894       2    male  62.0      0      0   9.6875        Q   \n3          895       3    male  27.0      0      0   8.6625        S   \n4          896       3  female  22.0      1      1  12.2875        S   \n\n   AgeIsMissing     AgeBin           FareBin  FamilySize  \n0             0   (25, 40]   (7.796, 11.025]           1  \n1             0   (40, 60]   (-0.001, 7.796]           2  \n2             0  (60, 100]   (7.796, 11.025]           1  \n3             0   (25, 40]   (7.796, 11.025]           1  \n4             0   (18, 25]  (11.025, 21.438]           3  ",
      "text/html": "<div>\n<style scoped>\n    .dataframe tbody tr th:only-of-type {\n        vertical-align: middle;\n    }\n\n    .dataframe tbody tr th {\n        vertical-align: top;\n    }\n\n    .dataframe thead th {\n        text-align: right;\n    }\n</style>\n<table border=\"1\" class=\"dataframe\">\n  <thead>\n    <tr style=\"text-align: right;\">\n      <th></th>\n      <th>PassengerId</th>\n      <th>Pclass</th>\n      <th>Sex</th>\n      <th>Age</th>\n      <th>SibSp</th>\n      <th>Parch</th>\n      <th>Fare</th>\n      <th>Embarked</th>\n      <th>AgeIsMissing</th>\n      <th>AgeBin</th>\n      <th>FareBin</th>\n      <th>FamilySize</th>\n    </tr>\n  </thead>\n  <tbody>\n    <tr>\n      <th>0</th>\n      <td>892</td>\n      <td>3</td>\n      <td>male</td>\n      <td>34.5</td>\n      <td>0</td>\n      <td>0</td>\n      <td>7.8292</td>\n      <td>Q</td>\n      <td>0</td>\n      <td>(25, 40]</td>\n      <td>(7.796, 11.025]</td>\n      <td>1</td>\n    </tr>\n    <tr>\n      <th>1</th>\n      <td>893</td>\n      <td>3</td>\n      <td>female</td>\n      <td>47.0</td>\n      <td>1</td>\n      <td>0</td>\n      <td>7.0000</td>\n      <td>S</td>\n      <td>0</td>\n      <td>(40, 60]</td>\n      <td>(-0.001, 7.796]</td>\n      <td>2</td>\n    </tr>\n    <tr>\n      <th>2</th>\n      <td>894</td>\n      <td>2</td>\n      <td>male</td>\n      <td>62.0</td>\n      <td>0</td>\n      <td>0</td>\n      <td>9.6875</td>\n      <td>Q</td>\n      <td>0</td>\n      <td>(60, 100]</td>\n      <td>(7.796, 11.025]</td>\n      <td>1</td>\n    </tr>\n    <tr>\n      <th>3</th>\n      <td>895</td>\n      <td>3</td>\n      <td>male</td>\n      <td>27.0</td>\n      <td>0</td>\n      <td>0</td>\n      <td>8.6625</td>\n      <td>S</td>\n      <td>0</td>\n      <td>(25, 40]</td>\n      <td>(7.796, 11.025]</td>\n      <td>1</td>\n    </tr>\n    <tr>\n      <th>4</th>\n      <td>896</td>\n      <td>3</td>\n      <td>female</td>\n      <td>22.0</td>\n      <td>1</td>\n      <td>1</td>\n      <td>12.2875</td>\n      <td>S</td>\n      <td>0</td>\n      <td>(18, 25]</td>\n      <td>(11.025, 21.438]</td>\n      <td>3</td>\n    </tr>\n  </tbody>\n</table>\n</div>"
     },
     "execution_count": 18,
     "metadata": {},
     "output_type": "execute_result"
    }
   ],
   "source": [
    "titanic_df.head()"
   ]
  },
  {
   "cell_type": "code",
   "execution_count": 19,
   "id": "heavy-spouse",
   "metadata": {},
   "outputs": [],
   "source": [
    "titanic_df['IsAlone'] = 0"
   ]
  },
  {
   "cell_type": "code",
   "execution_count": 20,
   "id": "american-product",
   "metadata": {},
   "outputs": [],
   "source": [
    "titanic_df.loc[titanic_df['FamilySize'] == 1, 'IsAlone'] = 1"
   ]
  },
  {
   "cell_type": "code",
   "execution_count": 21,
   "id": "relevant-advantage",
   "metadata": {},
   "outputs": [
    {
     "data": {
      "text/plain": "   PassengerId  Pclass     Sex   Age  SibSp  Parch     Fare Embarked  \\\n0          892       3    male  34.5      0      0   7.8292        Q   \n1          893       3  female  47.0      1      0   7.0000        S   \n2          894       2    male  62.0      0      0   9.6875        Q   \n3          895       3    male  27.0      0      0   8.6625        S   \n4          896       3  female  22.0      1      1  12.2875        S   \n\n   AgeIsMissing     AgeBin           FareBin  FamilySize  IsAlone  \n0             0   (25, 40]   (7.796, 11.025]           1        1  \n1             0   (40, 60]   (-0.001, 7.796]           2        0  \n2             0  (60, 100]   (7.796, 11.025]           1        1  \n3             0   (25, 40]   (7.796, 11.025]           1        1  \n4             0   (18, 25]  (11.025, 21.438]           3        0  ",
      "text/html": "<div>\n<style scoped>\n    .dataframe tbody tr th:only-of-type {\n        vertical-align: middle;\n    }\n\n    .dataframe tbody tr th {\n        vertical-align: top;\n    }\n\n    .dataframe thead th {\n        text-align: right;\n    }\n</style>\n<table border=\"1\" class=\"dataframe\">\n  <thead>\n    <tr style=\"text-align: right;\">\n      <th></th>\n      <th>PassengerId</th>\n      <th>Pclass</th>\n      <th>Sex</th>\n      <th>Age</th>\n      <th>SibSp</th>\n      <th>Parch</th>\n      <th>Fare</th>\n      <th>Embarked</th>\n      <th>AgeIsMissing</th>\n      <th>AgeBin</th>\n      <th>FareBin</th>\n      <th>FamilySize</th>\n      <th>IsAlone</th>\n    </tr>\n  </thead>\n  <tbody>\n    <tr>\n      <th>0</th>\n      <td>892</td>\n      <td>3</td>\n      <td>male</td>\n      <td>34.5</td>\n      <td>0</td>\n      <td>0</td>\n      <td>7.8292</td>\n      <td>Q</td>\n      <td>0</td>\n      <td>(25, 40]</td>\n      <td>(7.796, 11.025]</td>\n      <td>1</td>\n      <td>1</td>\n    </tr>\n    <tr>\n      <th>1</th>\n      <td>893</td>\n      <td>3</td>\n      <td>female</td>\n      <td>47.0</td>\n      <td>1</td>\n      <td>0</td>\n      <td>7.0000</td>\n      <td>S</td>\n      <td>0</td>\n      <td>(40, 60]</td>\n      <td>(-0.001, 7.796]</td>\n      <td>2</td>\n      <td>0</td>\n    </tr>\n    <tr>\n      <th>2</th>\n      <td>894</td>\n      <td>2</td>\n      <td>male</td>\n      <td>62.0</td>\n      <td>0</td>\n      <td>0</td>\n      <td>9.6875</td>\n      <td>Q</td>\n      <td>0</td>\n      <td>(60, 100]</td>\n      <td>(7.796, 11.025]</td>\n      <td>1</td>\n      <td>1</td>\n    </tr>\n    <tr>\n      <th>3</th>\n      <td>895</td>\n      <td>3</td>\n      <td>male</td>\n      <td>27.0</td>\n      <td>0</td>\n      <td>0</td>\n      <td>8.6625</td>\n      <td>S</td>\n      <td>0</td>\n      <td>(25, 40]</td>\n      <td>(7.796, 11.025]</td>\n      <td>1</td>\n      <td>1</td>\n    </tr>\n    <tr>\n      <th>4</th>\n      <td>896</td>\n      <td>3</td>\n      <td>female</td>\n      <td>22.0</td>\n      <td>1</td>\n      <td>1</td>\n      <td>12.2875</td>\n      <td>S</td>\n      <td>0</td>\n      <td>(18, 25]</td>\n      <td>(11.025, 21.438]</td>\n      <td>3</td>\n      <td>0</td>\n    </tr>\n  </tbody>\n</table>\n</div>"
     },
     "execution_count": 21,
     "metadata": {},
     "output_type": "execute_result"
    }
   ],
   "source": [
    "titanic_df.head()"
   ]
  },
  {
   "cell_type": "code",
   "execution_count": 22,
   "id": "dangerous-heath",
   "metadata": {},
   "outputs": [],
   "source": [
    "titanic_df['IsMother'] = 0"
   ]
  },
  {
   "cell_type": "code",
   "execution_count": 23,
   "id": "disturbed-married",
   "metadata": {},
   "outputs": [],
   "source": [
    "titanic_df.loc[(titanic_df.Sex == 'female') & (titanic_df.Parch > 0) & (titanic_df.Age > 20), 'IsMother'] = 1"
   ]
  },
  {
   "cell_type": "code",
   "execution_count": 24,
   "id": "sharing-passenger",
   "metadata": {},
   "outputs": [
    {
     "data": {
      "text/plain": "   PassengerId  Pclass     Sex   Age  SibSp  Parch     Fare Embarked  \\\n0          892       3    male  34.5      0      0   7.8292        Q   \n1          893       3  female  47.0      1      0   7.0000        S   \n2          894       2    male  62.0      0      0   9.6875        Q   \n3          895       3    male  27.0      0      0   8.6625        S   \n4          896       3  female  22.0      1      1  12.2875        S   \n\n   AgeIsMissing     AgeBin           FareBin  FamilySize  IsAlone  IsMother  \n0             0   (25, 40]   (7.796, 11.025]           1        1         0  \n1             0   (40, 60]   (-0.001, 7.796]           2        0         0  \n2             0  (60, 100]   (7.796, 11.025]           1        1         0  \n3             0   (25, 40]   (7.796, 11.025]           1        1         0  \n4             0   (18, 25]  (11.025, 21.438]           3        0         1  ",
      "text/html": "<div>\n<style scoped>\n    .dataframe tbody tr th:only-of-type {\n        vertical-align: middle;\n    }\n\n    .dataframe tbody tr th {\n        vertical-align: top;\n    }\n\n    .dataframe thead th {\n        text-align: right;\n    }\n</style>\n<table border=\"1\" class=\"dataframe\">\n  <thead>\n    <tr style=\"text-align: right;\">\n      <th></th>\n      <th>PassengerId</th>\n      <th>Pclass</th>\n      <th>Sex</th>\n      <th>Age</th>\n      <th>SibSp</th>\n      <th>Parch</th>\n      <th>Fare</th>\n      <th>Embarked</th>\n      <th>AgeIsMissing</th>\n      <th>AgeBin</th>\n      <th>FareBin</th>\n      <th>FamilySize</th>\n      <th>IsAlone</th>\n      <th>IsMother</th>\n    </tr>\n  </thead>\n  <tbody>\n    <tr>\n      <th>0</th>\n      <td>892</td>\n      <td>3</td>\n      <td>male</td>\n      <td>34.5</td>\n      <td>0</td>\n      <td>0</td>\n      <td>7.8292</td>\n      <td>Q</td>\n      <td>0</td>\n      <td>(25, 40]</td>\n      <td>(7.796, 11.025]</td>\n      <td>1</td>\n      <td>1</td>\n      <td>0</td>\n    </tr>\n    <tr>\n      <th>1</th>\n      <td>893</td>\n      <td>3</td>\n      <td>female</td>\n      <td>47.0</td>\n      <td>1</td>\n      <td>0</td>\n      <td>7.0000</td>\n      <td>S</td>\n      <td>0</td>\n      <td>(40, 60]</td>\n      <td>(-0.001, 7.796]</td>\n      <td>2</td>\n      <td>0</td>\n      <td>0</td>\n    </tr>\n    <tr>\n      <th>2</th>\n      <td>894</td>\n      <td>2</td>\n      <td>male</td>\n      <td>62.0</td>\n      <td>0</td>\n      <td>0</td>\n      <td>9.6875</td>\n      <td>Q</td>\n      <td>0</td>\n      <td>(60, 100]</td>\n      <td>(7.796, 11.025]</td>\n      <td>1</td>\n      <td>1</td>\n      <td>0</td>\n    </tr>\n    <tr>\n      <th>3</th>\n      <td>895</td>\n      <td>3</td>\n      <td>male</td>\n      <td>27.0</td>\n      <td>0</td>\n      <td>0</td>\n      <td>8.6625</td>\n      <td>S</td>\n      <td>0</td>\n      <td>(25, 40]</td>\n      <td>(7.796, 11.025]</td>\n      <td>1</td>\n      <td>1</td>\n      <td>0</td>\n    </tr>\n    <tr>\n      <th>4</th>\n      <td>896</td>\n      <td>3</td>\n      <td>female</td>\n      <td>22.0</td>\n      <td>1</td>\n      <td>1</td>\n      <td>12.2875</td>\n      <td>S</td>\n      <td>0</td>\n      <td>(18, 25]</td>\n      <td>(11.025, 21.438]</td>\n      <td>3</td>\n      <td>0</td>\n      <td>1</td>\n    </tr>\n  </tbody>\n</table>\n</div>"
     },
     "execution_count": 24,
     "metadata": {},
     "output_type": "execute_result"
    }
   ],
   "source": [
    "titanic_df.head()"
   ]
  },
  {
   "cell_type": "code",
   "execution_count": 25,
   "id": "qualified-framing",
   "metadata": {},
   "outputs": [],
   "source": [
    "titanic_df['SexAgeCombo'] = titanic_df['Sex'] + '_' + titanic_df['AgeBin'].astype(str)"
   ]
  },
  {
   "cell_type": "code",
   "execution_count": 26,
   "id": "loving-checkout",
   "metadata": {},
   "outputs": [
    {
     "data": {
      "text/plain": "   PassengerId  Pclass     Sex   Age  SibSp  Parch     Fare Embarked  \\\n0          892       3    male  34.5      0      0   7.8292        Q   \n1          893       3  female  47.0      1      0   7.0000        S   \n2          894       2    male  62.0      0      0   9.6875        Q   \n3          895       3    male  27.0      0      0   8.6625        S   \n4          896       3  female  22.0      1      1  12.2875        S   \n\n   AgeIsMissing     AgeBin           FareBin  FamilySize  IsAlone  IsMother  \\\n0             0   (25, 40]   (7.796, 11.025]           1        1         0   \n1             0   (40, 60]   (-0.001, 7.796]           2        0         0   \n2             0  (60, 100]   (7.796, 11.025]           1        1         0   \n3             0   (25, 40]   (7.796, 11.025]           1        1         0   \n4             0   (18, 25]  (11.025, 21.438]           3        0         1   \n\n       SexAgeCombo  \n0    male_(25, 40]  \n1  female_(40, 60]  \n2   male_(60, 100]  \n3    male_(25, 40]  \n4  female_(18, 25]  ",
      "text/html": "<div>\n<style scoped>\n    .dataframe tbody tr th:only-of-type {\n        vertical-align: middle;\n    }\n\n    .dataframe tbody tr th {\n        vertical-align: top;\n    }\n\n    .dataframe thead th {\n        text-align: right;\n    }\n</style>\n<table border=\"1\" class=\"dataframe\">\n  <thead>\n    <tr style=\"text-align: right;\">\n      <th></th>\n      <th>PassengerId</th>\n      <th>Pclass</th>\n      <th>Sex</th>\n      <th>Age</th>\n      <th>SibSp</th>\n      <th>Parch</th>\n      <th>Fare</th>\n      <th>Embarked</th>\n      <th>AgeIsMissing</th>\n      <th>AgeBin</th>\n      <th>FareBin</th>\n      <th>FamilySize</th>\n      <th>IsAlone</th>\n      <th>IsMother</th>\n      <th>SexAgeCombo</th>\n    </tr>\n  </thead>\n  <tbody>\n    <tr>\n      <th>0</th>\n      <td>892</td>\n      <td>3</td>\n      <td>male</td>\n      <td>34.5</td>\n      <td>0</td>\n      <td>0</td>\n      <td>7.8292</td>\n      <td>Q</td>\n      <td>0</td>\n      <td>(25, 40]</td>\n      <td>(7.796, 11.025]</td>\n      <td>1</td>\n      <td>1</td>\n      <td>0</td>\n      <td>male_(25, 40]</td>\n    </tr>\n    <tr>\n      <th>1</th>\n      <td>893</td>\n      <td>3</td>\n      <td>female</td>\n      <td>47.0</td>\n      <td>1</td>\n      <td>0</td>\n      <td>7.0000</td>\n      <td>S</td>\n      <td>0</td>\n      <td>(40, 60]</td>\n      <td>(-0.001, 7.796]</td>\n      <td>2</td>\n      <td>0</td>\n      <td>0</td>\n      <td>female_(40, 60]</td>\n    </tr>\n    <tr>\n      <th>2</th>\n      <td>894</td>\n      <td>2</td>\n      <td>male</td>\n      <td>62.0</td>\n      <td>0</td>\n      <td>0</td>\n      <td>9.6875</td>\n      <td>Q</td>\n      <td>0</td>\n      <td>(60, 100]</td>\n      <td>(7.796, 11.025]</td>\n      <td>1</td>\n      <td>1</td>\n      <td>0</td>\n      <td>male_(60, 100]</td>\n    </tr>\n    <tr>\n      <th>3</th>\n      <td>895</td>\n      <td>3</td>\n      <td>male</td>\n      <td>27.0</td>\n      <td>0</td>\n      <td>0</td>\n      <td>8.6625</td>\n      <td>S</td>\n      <td>0</td>\n      <td>(25, 40]</td>\n      <td>(7.796, 11.025]</td>\n      <td>1</td>\n      <td>1</td>\n      <td>0</td>\n      <td>male_(25, 40]</td>\n    </tr>\n    <tr>\n      <th>4</th>\n      <td>896</td>\n      <td>3</td>\n      <td>female</td>\n      <td>22.0</td>\n      <td>1</td>\n      <td>1</td>\n      <td>12.2875</td>\n      <td>S</td>\n      <td>0</td>\n      <td>(18, 25]</td>\n      <td>(11.025, 21.438]</td>\n      <td>3</td>\n      <td>0</td>\n      <td>1</td>\n      <td>female_(18, 25]</td>\n    </tr>\n  </tbody>\n</table>\n</div>"
     },
     "execution_count": 26,
     "metadata": {},
     "output_type": "execute_result"
    }
   ],
   "source": [
    "titanic_df.head()"
   ]
  },
  {
   "cell_type": "code",
   "execution_count": 27,
   "id": "emotional-heather",
   "metadata": {},
   "outputs": [],
   "source": [
    "Pclass = pd.get_dummies(titanic_df.Pclass, prefix='Pclass')"
   ]
  },
  {
   "cell_type": "code",
   "execution_count": 28,
   "id": "accepting-joshua",
   "metadata": {},
   "outputs": [],
   "source": [
    "Sex = pd.get_dummies(titanic_df.Sex, prefix='Sex')"
   ]
  },
  {
   "cell_type": "code",
   "execution_count": 29,
   "id": "vanilla-settlement",
   "metadata": {},
   "outputs": [],
   "source": [
    "Embarked = pd.get_dummies(titanic_df.Embarked, prefix='Embarked')"
   ]
  },
  {
   "cell_type": "code",
   "execution_count": 30,
   "id": "peaceful-reward",
   "metadata": {},
   "outputs": [],
   "source": [
    "AgeBin = pd.get_dummies(titanic_df.AgeBin, prefix='AgeBin')"
   ]
  },
  {
   "cell_type": "code",
   "execution_count": 31,
   "id": "modular-writing",
   "metadata": {},
   "outputs": [],
   "source": [
    "FareBin = pd.get_dummies(titanic_df.FareBin, prefix='FareBin')"
   ]
  },
  {
   "cell_type": "code",
   "execution_count": 32,
   "id": "scientific-latitude",
   "metadata": {},
   "outputs": [],
   "source": [
    "FamilySize = pd.get_dummies(titanic_df.FamilySize, prefix='FamilySize')"
   ]
  },
  {
   "cell_type": "code",
   "execution_count": 33,
   "id": "behind-marker",
   "metadata": {},
   "outputs": [],
   "source": [
    "SexAgeCombo = pd.get_dummies(titanic_df.SexAgeCombo, prefix='SexAgeCombo')"
   ]
  },
  {
   "cell_type": "code",
   "execution_count": 34,
   "id": "prompt-disney",
   "metadata": {},
   "outputs": [],
   "source": [
    "TestData = pd.concat([titanic_df[['PassengerId', 'AgeIsMissing', 'IsAlone', 'IsMother']], Pclass, Sex, Embarked, AgeBin, FareBin, FamilySize, SexAgeCombo], axis=1)"
   ]
  },
  {
   "cell_type": "code",
   "execution_count": 35,
   "id": "confidential-ozone",
   "metadata": {},
   "outputs": [
    {
     "data": {
      "text/plain": "   PassengerId  AgeIsMissing  IsAlone  IsMother  Pclass_1  Pclass_2  Pclass_3  \\\n0          892             0        1         0         0         0         1   \n1          893             0        0         0         0         0         1   \n2          894             0        1         0         0         1         0   \n3          895             0        1         0         0         0         1   \n4          896             0        0         1         0         0         1   \n\n   Sex_female  Sex_male  Embarked_C  ...  SexAgeCombo_female_(0, 18]  \\\n0           0         1           0  ...                           0   \n1           1         0           0  ...                           0   \n2           0         1           0  ...                           0   \n3           0         1           0  ...                           0   \n4           1         0           0  ...                           0   \n\n   SexAgeCombo_female_(18, 25]  SexAgeCombo_female_(25, 40]  \\\n0                            0                            0   \n1                            0                            0   \n2                            0                            0   \n3                            0                            0   \n4                            1                            0   \n\n   SexAgeCombo_female_(40, 60]  SexAgeCombo_female_(60, 100]  \\\n0                            0                             0   \n1                            1                             0   \n2                            0                             0   \n3                            0                             0   \n4                            0                             0   \n\n   SexAgeCombo_male_(0, 18]  SexAgeCombo_male_(18, 25]  \\\n0                         0                          0   \n1                         0                          0   \n2                         0                          0   \n3                         0                          0   \n4                         0                          0   \n\n   SexAgeCombo_male_(25, 40]  SexAgeCombo_male_(40, 60]  \\\n0                          1                          0   \n1                          0                          0   \n2                          0                          0   \n3                          1                          0   \n4                          0                          0   \n\n   SexAgeCombo_male_(60, 100]  \n0                           0  \n1                           0  \n2                           1  \n3                           0  \n4                           0  \n\n[5 rows x 41 columns]",
      "text/html": "<div>\n<style scoped>\n    .dataframe tbody tr th:only-of-type {\n        vertical-align: middle;\n    }\n\n    .dataframe tbody tr th {\n        vertical-align: top;\n    }\n\n    .dataframe thead th {\n        text-align: right;\n    }\n</style>\n<table border=\"1\" class=\"dataframe\">\n  <thead>\n    <tr style=\"text-align: right;\">\n      <th></th>\n      <th>PassengerId</th>\n      <th>AgeIsMissing</th>\n      <th>IsAlone</th>\n      <th>IsMother</th>\n      <th>Pclass_1</th>\n      <th>Pclass_2</th>\n      <th>Pclass_3</th>\n      <th>Sex_female</th>\n      <th>Sex_male</th>\n      <th>Embarked_C</th>\n      <th>...</th>\n      <th>SexAgeCombo_female_(0, 18]</th>\n      <th>SexAgeCombo_female_(18, 25]</th>\n      <th>SexAgeCombo_female_(25, 40]</th>\n      <th>SexAgeCombo_female_(40, 60]</th>\n      <th>SexAgeCombo_female_(60, 100]</th>\n      <th>SexAgeCombo_male_(0, 18]</th>\n      <th>SexAgeCombo_male_(18, 25]</th>\n      <th>SexAgeCombo_male_(25, 40]</th>\n      <th>SexAgeCombo_male_(40, 60]</th>\n      <th>SexAgeCombo_male_(60, 100]</th>\n    </tr>\n  </thead>\n  <tbody>\n    <tr>\n      <th>0</th>\n      <td>892</td>\n      <td>0</td>\n      <td>1</td>\n      <td>0</td>\n      <td>0</td>\n      <td>0</td>\n      <td>1</td>\n      <td>0</td>\n      <td>1</td>\n      <td>0</td>\n      <td>...</td>\n      <td>0</td>\n      <td>0</td>\n      <td>0</td>\n      <td>0</td>\n      <td>0</td>\n      <td>0</td>\n      <td>0</td>\n      <td>1</td>\n      <td>0</td>\n      <td>0</td>\n    </tr>\n    <tr>\n      <th>1</th>\n      <td>893</td>\n      <td>0</td>\n      <td>0</td>\n      <td>0</td>\n      <td>0</td>\n      <td>0</td>\n      <td>1</td>\n      <td>1</td>\n      <td>0</td>\n      <td>0</td>\n      <td>...</td>\n      <td>0</td>\n      <td>0</td>\n      <td>0</td>\n      <td>1</td>\n      <td>0</td>\n      <td>0</td>\n      <td>0</td>\n      <td>0</td>\n      <td>0</td>\n      <td>0</td>\n    </tr>\n    <tr>\n      <th>2</th>\n      <td>894</td>\n      <td>0</td>\n      <td>1</td>\n      <td>0</td>\n      <td>0</td>\n      <td>1</td>\n      <td>0</td>\n      <td>0</td>\n      <td>1</td>\n      <td>0</td>\n      <td>...</td>\n      <td>0</td>\n      <td>0</td>\n      <td>0</td>\n      <td>0</td>\n      <td>0</td>\n      <td>0</td>\n      <td>0</td>\n      <td>0</td>\n      <td>0</td>\n      <td>1</td>\n    </tr>\n    <tr>\n      <th>3</th>\n      <td>895</td>\n      <td>0</td>\n      <td>1</td>\n      <td>0</td>\n      <td>0</td>\n      <td>0</td>\n      <td>1</td>\n      <td>0</td>\n      <td>1</td>\n      <td>0</td>\n      <td>...</td>\n      <td>0</td>\n      <td>0</td>\n      <td>0</td>\n      <td>0</td>\n      <td>0</td>\n      <td>0</td>\n      <td>0</td>\n      <td>1</td>\n      <td>0</td>\n      <td>0</td>\n    </tr>\n    <tr>\n      <th>4</th>\n      <td>896</td>\n      <td>0</td>\n      <td>0</td>\n      <td>1</td>\n      <td>0</td>\n      <td>0</td>\n      <td>1</td>\n      <td>1</td>\n      <td>0</td>\n      <td>0</td>\n      <td>...</td>\n      <td>0</td>\n      <td>1</td>\n      <td>0</td>\n      <td>0</td>\n      <td>0</td>\n      <td>0</td>\n      <td>0</td>\n      <td>0</td>\n      <td>0</td>\n      <td>0</td>\n    </tr>\n  </tbody>\n</table>\n<p>5 rows × 41 columns</p>\n</div>"
     },
     "execution_count": 35,
     "metadata": {},
     "output_type": "execute_result"
    }
   ],
   "source": [
    "TestData.head()"
   ]
  },
  {
   "cell_type": "code",
   "execution_count": 36,
   "id": "vietnamese-african",
   "metadata": {},
   "outputs": [
    {
     "name": "stdout",
     "output_type": "stream",
     "text": [
      "<class 'pandas.core.frame.DataFrame'>\n",
      "RangeIndex: 418 entries, 0 to 417\n",
      "Data columns (total 41 columns):\n",
      " #   Column                        Non-Null Count  Dtype\n",
      "---  ------                        --------------  -----\n",
      " 0   PassengerId                   418 non-null    int64\n",
      " 1   AgeIsMissing                  418 non-null    int64\n",
      " 2   IsAlone                       418 non-null    int64\n",
      " 3   IsMother                      418 non-null    int64\n",
      " 4   Pclass_1                      418 non-null    uint8\n",
      " 5   Pclass_2                      418 non-null    uint8\n",
      " 6   Pclass_3                      418 non-null    uint8\n",
      " 7   Sex_female                    418 non-null    uint8\n",
      " 8   Sex_male                      418 non-null    uint8\n",
      " 9   Embarked_C                    418 non-null    uint8\n",
      " 10  Embarked_Q                    418 non-null    uint8\n",
      " 11  Embarked_S                    418 non-null    uint8\n",
      " 12  AgeBin_(0, 18]                418 non-null    uint8\n",
      " 13  AgeBin_(18, 25]               418 non-null    uint8\n",
      " 14  AgeBin_(25, 40]               418 non-null    uint8\n",
      " 15  AgeBin_(40, 60]               418 non-null    uint8\n",
      " 16  AgeBin_(60, 100]              418 non-null    uint8\n",
      " 17  FareBin_(-0.001, 7.796]       418 non-null    uint8\n",
      " 18  FareBin_(7.796, 11.025]       418 non-null    uint8\n",
      " 19  FareBin_(11.025, 21.438]      418 non-null    uint8\n",
      " 20  FareBin_(21.438, 46.62]       418 non-null    uint8\n",
      " 21  FareBin_(46.62, 512.329]      418 non-null    uint8\n",
      " 22  FamilySize_1                  418 non-null    uint8\n",
      " 23  FamilySize_2                  418 non-null    uint8\n",
      " 24  FamilySize_3                  418 non-null    uint8\n",
      " 25  FamilySize_4                  418 non-null    uint8\n",
      " 26  FamilySize_5                  418 non-null    uint8\n",
      " 27  FamilySize_6                  418 non-null    uint8\n",
      " 28  FamilySize_7                  418 non-null    uint8\n",
      " 29  FamilySize_8                  418 non-null    uint8\n",
      " 30  FamilySize_11                 418 non-null    uint8\n",
      " 31  SexAgeCombo_female_(0, 18]    418 non-null    uint8\n",
      " 32  SexAgeCombo_female_(18, 25]   418 non-null    uint8\n",
      " 33  SexAgeCombo_female_(25, 40]   418 non-null    uint8\n",
      " 34  SexAgeCombo_female_(40, 60]   418 non-null    uint8\n",
      " 35  SexAgeCombo_female_(60, 100]  418 non-null    uint8\n",
      " 36  SexAgeCombo_male_(0, 18]      418 non-null    uint8\n",
      " 37  SexAgeCombo_male_(18, 25]     418 non-null    uint8\n",
      " 38  SexAgeCombo_male_(25, 40]     418 non-null    uint8\n",
      " 39  SexAgeCombo_male_(40, 60]     418 non-null    uint8\n",
      " 40  SexAgeCombo_male_(60, 100]    418 non-null    uint8\n",
      "dtypes: int64(4), uint8(37)\n",
      "memory usage: 28.3 KB\n"
     ]
    }
   ],
   "source": [
    "TestData.info()"
   ]
  },
  {
   "cell_type": "code",
   "execution_count": 37,
   "id": "dying-rebound",
   "metadata": {},
   "outputs": [],
   "source": [
    "Test_X = TestData.drop(['PassengerId'], axis=1)"
   ]
  },
  {
   "cell_type": "code",
   "execution_count": 38,
   "id": "biological-aberdeen",
   "metadata": {},
   "outputs": [],
   "source": [
    "pred = lr.predict(Test_X)"
   ]
  },
  {
   "cell_type": "code",
   "execution_count": 39,
   "id": "fitting-attack",
   "metadata": {},
   "outputs": [
    {
     "name": "stdout",
     "output_type": "stream",
     "text": [
      "[0 0 0 0 1 0 1 0 1 0 0 0 1 0 1 1 0 0 1 1 0 0 1 0 1 0 1 0 0 0 0 0 1 1 1 0 1\n",
      " 1 0 0 0 0 0 1 1 0 0 0 1 1 0 0 1 1 0 0 0 0 0 1 0 0 0 1 1 1 1 0 1 1 1 0 1 1\n",
      " 1 1 0 1 0 1 1 0 0 0 0 0 1 1 1 1 1 0 1 0 0 0 1 0 1 0 1 0 0 0 1 0 0 0 0 0 0\n",
      " 1 1 1 1 0 0 1 1 1 1 0 1 0 0 1 0 1 0 0 0 0 0 0 0 0 0 0 1 0 0 1 0 0 0 0 1 0\n",
      " 0 0 1 0 0 1 0 0 1 1 0 1 1 1 1 0 0 1 0 0 1 1 0 0 0 0 0 1 1 0 1 1 0 1 1 0 1\n",
      " 0 1 0 0 0 0 0 0 0 1 0 1 1 0 1 1 0 0 1 0 1 1 0 1 0 0 0 1 1 0 0 1 0 1 0 1 0\n",
      " 1 0 1 1 0 1 0 0 1 1 0 0 1 0 0 0 1 1 1 1 1 0 0 0 1 0 1 1 1 0 1 0 0 0 0 0 1\n",
      " 0 0 0 1 1 0 0 0 0 1 0 0 0 1 1 0 1 0 0 0 0 1 0 1 1 1 0 0 0 0 0 0 1 0 0 0 0\n",
      " 1 0 0 0 0 0 0 0 1 1 1 0 0 1 0 0 0 1 1 1 0 0 0 0 0 0 0 0 1 0 1 0 0 0 1 1 0\n",
      " 1 0 0 0 0 0 0 0 0 0 1 0 1 0 1 0 1 1 0 1 0 1 0 1 0 0 1 0 1 1 0 1 0 0 1 1 0\n",
      " 0 1 0 0 1 1 1 0 0 0 0 0 1 1 0 1 0 0 0 0 0 1 0 0 0 1 0 1 0 0 1 0 1 1 0 0 0\n",
      " 1 1 1 1 1 1 0 1 0 0 0]\n"
     ]
    }
   ],
   "source": [
    "print(pred)"
   ]
  },
  {
   "cell_type": "code",
   "execution_count": 40,
   "id": "synthetic-maintenance",
   "metadata": {},
   "outputs": [
    {
     "data": {
      "text/plain": "0.4067"
     },
     "execution_count": 40,
     "metadata": {},
     "output_type": "execute_result"
    }
   ],
   "source": [
    "round(pred.sum()/pred.size, 4)"
   ]
  },
  {
   "cell_type": "code",
   "execution_count": 41,
   "id": "other-artist",
   "metadata": {},
   "outputs": [],
   "source": [
    "Submission = pd.DataFrame({'PassengerId':TestData.PassengerId, 'Survived':pred})"
   ]
  },
  {
   "cell_type": "code",
   "execution_count": 42,
   "id": "delayed-maldives",
   "metadata": {},
   "outputs": [
    {
     "data": {
      "text/plain": "     PassengerId  Survived\n0            892         0\n1            893         0\n2            894         0\n3            895         0\n4            896         1\n..           ...       ...\n413         1305         0\n414         1306         1\n415         1307         0\n416         1308         0\n417         1309         0\n\n[418 rows x 2 columns]",
      "text/html": "<div>\n<style scoped>\n    .dataframe tbody tr th:only-of-type {\n        vertical-align: middle;\n    }\n\n    .dataframe tbody tr th {\n        vertical-align: top;\n    }\n\n    .dataframe thead th {\n        text-align: right;\n    }\n</style>\n<table border=\"1\" class=\"dataframe\">\n  <thead>\n    <tr style=\"text-align: right;\">\n      <th></th>\n      <th>PassengerId</th>\n      <th>Survived</th>\n    </tr>\n  </thead>\n  <tbody>\n    <tr>\n      <th>0</th>\n      <td>892</td>\n      <td>0</td>\n    </tr>\n    <tr>\n      <th>1</th>\n      <td>893</td>\n      <td>0</td>\n    </tr>\n    <tr>\n      <th>2</th>\n      <td>894</td>\n      <td>0</td>\n    </tr>\n    <tr>\n      <th>3</th>\n      <td>895</td>\n      <td>0</td>\n    </tr>\n    <tr>\n      <th>4</th>\n      <td>896</td>\n      <td>1</td>\n    </tr>\n    <tr>\n      <th>...</th>\n      <td>...</td>\n      <td>...</td>\n    </tr>\n    <tr>\n      <th>413</th>\n      <td>1305</td>\n      <td>0</td>\n    </tr>\n    <tr>\n      <th>414</th>\n      <td>1306</td>\n      <td>1</td>\n    </tr>\n    <tr>\n      <th>415</th>\n      <td>1307</td>\n      <td>0</td>\n    </tr>\n    <tr>\n      <th>416</th>\n      <td>1308</td>\n      <td>0</td>\n    </tr>\n    <tr>\n      <th>417</th>\n      <td>1309</td>\n      <td>0</td>\n    </tr>\n  </tbody>\n</table>\n<p>418 rows × 2 columns</p>\n</div>"
     },
     "execution_count": 42,
     "metadata": {},
     "output_type": "execute_result"
    }
   ],
   "source": [
    "Submission"
   ]
  },
  {
   "cell_type": "code",
   "execution_count": 43,
   "id": "saving-reservation",
   "metadata": {},
   "outputs": [],
   "source": [
    "Submission.to_csv(\"Submission.csv\", index=False)"
   ]
  },
  {
   "cell_type": "code",
   "execution_count": 44,
   "id": "alone-sphere",
   "metadata": {},
   "outputs": [],
   "source": [
    "submission_df = pd.read_csv('Submission.csv')"
   ]
  },
  {
   "cell_type": "code",
   "execution_count": 45,
   "id": "engaged-biography",
   "metadata": {},
   "outputs": [
    {
     "data": {
      "text/plain": "   PassengerId  Survived\n0          892         0\n1          893         0\n2          894         0\n3          895         0\n4          896         1",
      "text/html": "<div>\n<style scoped>\n    .dataframe tbody tr th:only-of-type {\n        vertical-align: middle;\n    }\n\n    .dataframe tbody tr th {\n        vertical-align: top;\n    }\n\n    .dataframe thead th {\n        text-align: right;\n    }\n</style>\n<table border=\"1\" class=\"dataframe\">\n  <thead>\n    <tr style=\"text-align: right;\">\n      <th></th>\n      <th>PassengerId</th>\n      <th>Survived</th>\n    </tr>\n  </thead>\n  <tbody>\n    <tr>\n      <th>0</th>\n      <td>892</td>\n      <td>0</td>\n    </tr>\n    <tr>\n      <th>1</th>\n      <td>893</td>\n      <td>0</td>\n    </tr>\n    <tr>\n      <th>2</th>\n      <td>894</td>\n      <td>0</td>\n    </tr>\n    <tr>\n      <th>3</th>\n      <td>895</td>\n      <td>0</td>\n    </tr>\n    <tr>\n      <th>4</th>\n      <td>896</td>\n      <td>1</td>\n    </tr>\n  </tbody>\n</table>\n</div>"
     },
     "execution_count": 45,
     "metadata": {},
     "output_type": "execute_result"
    }
   ],
   "source": [
    "submission_df.head()"
   ]
  },
  {
   "cell_type": "code",
   "execution_count": 46,
   "id": "thermal-adventure",
   "metadata": {},
   "outputs": [],
   "source": [
    "# Now that we save the prediction as a file, we need to store the model as well"
   ]
  },
  {
   "cell_type": "code",
   "execution_count": 47,
   "id": "gorgeous-fellow",
   "metadata": {},
   "outputs": [
    {
     "data": {
      "text/plain": "sklearn.linear_model._logistic.LogisticRegression"
     },
     "execution_count": 47,
     "metadata": {},
     "output_type": "execute_result"
    }
   ],
   "source": [
    "type(lr)"
   ]
  },
  {
   "cell_type": "code",
   "execution_count": 48,
   "id": "continent-keeping",
   "metadata": {},
   "outputs": [],
   "source": [
    "with open('lrmodel.pickle', 'wb') as f:\n",
    "    pickle.dump(lr, f)"
   ]
  },
  {
   "cell_type": "code",
   "execution_count": 49,
   "id": "behind-passing",
   "metadata": {},
   "outputs": [],
   "source": [
    "# EOF"
   ]
  }
 ],
 "metadata": {
  "kernelspec": {
   "display_name": "Python 3",
   "language": "python",
   "name": "python3"
  },
  "language_info": {
   "codemirror_mode": {
    "name": "ipython",
    "version": 3
   },
   "file_extension": ".py",
   "mimetype": "text/x-python",
   "name": "python",
   "nbconvert_exporter": "python",
   "pygments_lexer": "ipython3",
   "version": "3.9.2"
  }
 },
 "nbformat": 4,
 "nbformat_minor": 5
}